{
 "cells": [
  {
   "cell_type": "code",
   "execution_count": 20,
   "metadata": {},
   "outputs": [],
   "source": [
    "import numpy as np\n",
    "import pandas as pd\n",
    "import tensorflow as tf\n",
    "from sklearn.preprocessing import MinMaxScaler\n",
    "# from preprocess_python import scaler_features, scaler_target"
   ]
  },
  {
   "cell_type": "code",
   "execution_count": 21,
   "metadata": {},
   "outputs": [
    {
     "name": "stderr",
     "output_type": "stream",
     "text": [
      "VERBOSE: Replacing 4 out of 18 node(s) with delegate (TfLiteFlexDelegate) node, yielding 7 partitions for the whole graph.\n",
      "2024-11-14 16:47:44.668608: E tensorflow/core/framework/node_def_util.cc:676] NodeDef mentions attribute use_inter_op_parallelism which is not in the op definition: Op<name=TensorListReserve; signature=element_shape:shape_type, num_elements:int32 -> handle:variant; attr=element_dtype:type; attr=shape_type:type,allowed=[DT_INT32, DT_INT64]> This may be expected if your graph generating binary is newer  than this binary. Unknown attributes will be ignored. NodeDef: {{node TensorListReserve}}\n",
      "VERBOSE: Replacing 1 out of 18 node(s) with delegate (TfLiteFlexDelegate) node, yielding 2 partitions for the whole graph.\n",
      "VERBOSE: Replacing 1 out of 18 node(s) with delegate (TfLiteFlexDelegate) node, yielding 2 partitions for the whole graph.\n",
      "INFO: Applying 1 TensorFlow Lite delegate(s) lazily.\n",
      "INFO: XNNPack weight cache not enabled.\n",
      "VERBOSE: Replacing 3 out of 17 node(s) with delegate (TfLiteXNNPackDelegate) node, yielding 6 partitions for the whole graph.\n",
      "VERBOSE: Replacing 14 out of 18 node(s) with delegate (TfLiteXNNPackDelegate) node, yielding 3 partitions for the whole graph.\n",
      "VERBOSE: Replacing 14 out of 18 node(s) with delegate (TfLiteXNNPackDelegate) node, yielding 3 partitions for the whole graph.\n",
      "INFO: Successfully applied the default TensorFlow Lite delegate indexed at 0.\n",
      " *NOTE*: because a delegate has been applied, the precision of computations should be unchanged, but the exact output tensor values may have changed. If such output values are checked in your code, like in your tests etc., please consider increasing error tolerance for the check.\n"
     ]
    }
   ],
   "source": [
    "# Load the TFLite model\n",
    "interpreter = tf.lite.Interpreter(model_path='/Users/shishir/Downloads/cs667-project/aqi_prediction_model.tflite')\n",
    "interpreter.allocate_tensors()\n",
    "\n",
    "# Get input and output details\n",
    "input_details = interpreter.get_input_details()\n",
    "output_details = interpreter.get_output_details()\n"
   ]
  },
  {
   "cell_type": "code",
   "execution_count": 22,
   "metadata": {},
   "outputs": [],
   "source": [
    "data1 =pd.read_csv('/Users/shishir/Downloads/cs667-project/filtered_data.csv')\n",
    "\n",
    "data1['Timestamp'] = pd.to_datetime(data1['Timestamp'])\n",
    "data1 = data1.sort_values('Timestamp').set_index('Timestamp')\n",
    "\n",
    "features = ['PM2.5 (µg/m³)', 'PM10 (µg/m³)','NH3 (µg/m³)','Benzene (µg/m³)','AT (°C)','RH (%)' ]\n",
    "target=['AQI']\n",
    "scaler_features = MinMaxScaler()\n",
    "scaled_features = scaler_features.fit_transform(data1[features])\n",
    "\n",
    "scaler_target = MinMaxScaler()\n",
    "scaled_target = scaler_target.fit_transform(data1[target])"
   ]
  },
  {
   "cell_type": "code",
   "execution_count": 23,
   "metadata": {},
   "outputs": [],
   "source": [
    "# Function to make a daily AQI prediction using TFLite model\n",
    "def predict_next_day_aqi(new_data, historical_data, lookback=30):\n",
    "    # Step 1: Append the new data to the historical dataset for feature columns only\n",
    "    features = ['PM2.5 (µg/m³)', 'PM10 (µg/m³)','NH3 (µg/m³)','Benzene (µg/m³)','AT (°C)','RH (%)' ]\n",
    "    data = pd.concat([historical_data, new_data])\n",
    "    \n",
    "    data = data[features]\n",
    "    \n",
    "    # Step 2: Normalize the updated feature data\n",
    "    scaled_features = scaler_features.transform(data)\n",
    "    scaled_features = pd.DataFrame(scaled_features, columns=features, index=data.index)\n",
    "    \n",
    "    # Step 3: Prepare the input sequence using the last 30 days of feature data\n",
    "    input_sequence = scaled_features[-lookback:].values.reshape((1, lookback, len(features))).astype(np.float32)\n",
    "    \n",
    "    # Step 4: Set the input data for the interpreter and run the prediction\n",
    "    interpreter.set_tensor(input_details[0]['index'], input_sequence)\n",
    "    interpreter.invoke()\n",
    "    \n",
    "    # Step 5: Get the predicted AQI in scaled format and inverse transform to original scale\n",
    "    predicted_aqi_scaled = interpreter.get_tensor(output_details[0]['index'])\n",
    "    predicted_aqi = scaler_target.inverse_transform(predicted_aqi_scaled.reshape(-1, 1)).flatten()\n",
    "    \n",
    "    return predicted_aqi"
   ]
  },
  {
   "cell_type": "code",
   "execution_count": 24,
   "metadata": {},
   "outputs": [],
   "source": [
    "# %%\n",
    "# New data for the next day\n",
    "new_data = pd.DataFrame({\n",
    "    'PM2.5 (µg/m³)': [181],\n",
    "    'PM10 (µg/m³)': [202],\n",
    "    'NH3 (µg/m³)': [2],\n",
    "    'Benzene (µg/m³)': [1],\n",
    "    'AT (°C)': [29],\n",
    "    'RH (%)': [63],\n",
    "    'AQI': [53]  # The AQI is unknown as it is what we want to predict\n",
    "}, index=[pd.to_datetime('2024-11-12')])\n"
   ]
  },
  {
   "cell_type": "code",
   "execution_count": 25,
   "metadata": {},
   "outputs": [
    {
     "name": "stdout",
     "output_type": "stream",
     "text": [
      "Predicted AQI for the next day: [205.15332]\n"
     ]
    },
    {
     "name": "stderr",
     "output_type": "stream",
     "text": [
      "INFO: FlexDelegate: All tensor shapes are consistent.\n",
      "INFO: FlexDelegate: All tensor shapes are consistent.\n",
      "INFO: FlexDelegate: All tensor shapes are consistent.\n",
      "INFO: FlexDelegate: All tensor shapes are consistent.\n",
      "INFO: FlexDelegate: All tensor shapes are consistent.\n",
      "INFO: FlexDelegate: All tensor shapes are consistent.\n",
      "INFO: FlexDelegate: All tensor shapes are consistent.\n",
      "INFO: FlexDelegate: All tensor shapes are consistent.\n",
      "INFO: FlexDelegate: All tensor shapes are consistent.\n",
      "INFO: FlexDelegate: All tensor shapes are consistent.\n",
      "INFO: FlexDelegate: All tensor shapes are consistent.\n",
      "INFO: FlexDelegate: All tensor shapes are consistent.\n",
      "INFO: FlexDelegate: All tensor shapes are consistent.\n",
      "INFO: FlexDelegate: All tensor shapes are consistent.\n",
      "INFO: FlexDelegate: All tensor shapes are consistent.\n",
      "INFO: FlexDelegate: All tensor shapes are consistent.\n",
      "INFO: FlexDelegate: All tensor shapes are consistent.\n",
      "INFO: FlexDelegate: All tensor shapes are consistent.\n",
      "INFO: FlexDelegate: All tensor shapes are consistent.\n",
      "INFO: FlexDelegate: All tensor shapes are consistent.\n",
      "INFO: FlexDelegate: All tensor shapes are consistent.\n",
      "INFO: FlexDelegate: All tensor shapes are consistent.\n",
      "INFO: FlexDelegate: All tensor shapes are consistent.\n",
      "INFO: FlexDelegate: All tensor shapes are consistent.\n",
      "INFO: FlexDelegate: All tensor shapes are consistent.\n",
      "INFO: FlexDelegate: All tensor shapes are consistent.\n",
      "INFO: FlexDelegate: All tensor shapes are consistent.\n",
      "INFO: FlexDelegate: All tensor shapes are consistent.\n",
      "INFO: FlexDelegate: All tensor shapes are consistent.\n",
      "INFO: FlexDelegate: All tensor shapes are consistent.\n",
      "INFO: FlexDelegate: All tensor shapes are consistent.\n",
      "INFO: FlexDelegate: All tensor shapes are consistent.\n",
      "INFO: FlexDelegate: All tensor shapes are consistent.\n",
      "WARNING: op 'TensorListStack' output0 tensor#30 shape mismatch for  [30,1,128] != [30,?,128]\n",
      "WARNING: FlexDelegate: Some tensor shapes are inconsistent.\n",
      "INFO: FlexDelegate: All tensor shapes are consistent.\n",
      "INFO: FlexDelegate: All tensor shapes are consistent.\n",
      "INFO: FlexDelegate: All tensor shapes are consistent.\n",
      "INFO: FlexDelegate: All tensor shapes are consistent.\n",
      "INFO: FlexDelegate: All tensor shapes are consistent.\n",
      "INFO: FlexDelegate: All tensor shapes are consistent.\n",
      "INFO: FlexDelegate: All tensor shapes are consistent.\n",
      "INFO: FlexDelegate: All tensor shapes are consistent.\n",
      "INFO: FlexDelegate: All tensor shapes are consistent.\n",
      "INFO: FlexDelegate: All tensor shapes are consistent.\n",
      "INFO: FlexDelegate: All tensor shapes are consistent.\n",
      "INFO: FlexDelegate: All tensor shapes are consistent.\n",
      "INFO: FlexDelegate: All tensor shapes are consistent.\n",
      "INFO: FlexDelegate: All tensor shapes are consistent.\n",
      "INFO: FlexDelegate: All tensor shapes are consistent.\n",
      "INFO: FlexDelegate: All tensor shapes are consistent.\n",
      "INFO: FlexDelegate: All tensor shapes are consistent.\n",
      "INFO: FlexDelegate: All tensor shapes are consistent.\n",
      "INFO: FlexDelegate: All tensor shapes are consistent.\n",
      "INFO: FlexDelegate: All tensor shapes are consistent.\n",
      "INFO: FlexDelegate: All tensor shapes are consistent.\n",
      "INFO: FlexDelegate: All tensor shapes are consistent.\n",
      "INFO: FlexDelegate: All tensor shapes are consistent.\n",
      "INFO: FlexDelegate: All tensor shapes are consistent.\n",
      "INFO: FlexDelegate: All tensor shapes are consistent.\n",
      "INFO: FlexDelegate: All tensor shapes are consistent.\n",
      "INFO: FlexDelegate: All tensor shapes are consistent.\n",
      "INFO: FlexDelegate: All tensor shapes are consistent.\n",
      "INFO: FlexDelegate: All tensor shapes are consistent.\n",
      "INFO: FlexDelegate: All tensor shapes are consistent.\n",
      "INFO: FlexDelegate: All tensor shapes are consistent.\n",
      "INFO: FlexDelegate: All tensor shapes are consistent.\n",
      "WARNING: op 'TensorListStack' output0 tensor#42 shape mismatch for  [1,1,64] != [1,?,64]\n",
      "WARNING: FlexDelegate: Some tensor shapes are inconsistent.\n"
     ]
    }
   ],
   "source": [
    "\n",
    "# Historical data\n",
    "historical_data = pd.read_csv('/Users/shishir/Downloads/cs667-project/filtered_data.csv')\n",
    "\n",
    "# Make prediction for the next day AQI\n",
    "predicted_aqi = predict_next_day_aqi(new_data, historical_data)\n",
    "\n",
    "print(f\"Predicted AQI for the next day: {predicted_aqi}\")"
   ]
  }
 ],
 "metadata": {
  "kernelspec": {
   "display_name": "my_new_env",
   "language": "python",
   "name": "python3"
  },
  "language_info": {
   "codemirror_mode": {
    "name": "ipython",
    "version": 3
   },
   "file_extension": ".py",
   "mimetype": "text/x-python",
   "name": "python",
   "nbconvert_exporter": "python",
   "pygments_lexer": "ipython3",
   "version": "3.12.2"
  }
 },
 "nbformat": 4,
 "nbformat_minor": 2
}
